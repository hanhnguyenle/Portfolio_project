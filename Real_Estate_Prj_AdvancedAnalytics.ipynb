{
  "nbformat": 4,
  "nbformat_minor": 0,
  "metadata": {
    "colab": {
      "provenance": []
    },
    "kernelspec": {
      "name": "python3",
      "display_name": "Python 3"
    },
    "language_info": {
      "name": "python"
    }
  },
  "cells": [
    {
      "cell_type": "markdown",
      "source": [
        "# Advanced Analytics"
      ],
      "metadata": {
        "id": "6NOAARkBIEH_"
      }
    },
    {
      "cell_type": "code",
      "execution_count": null,
      "metadata": {
        "id": "LvBj4WnhIBUz"
      },
      "outputs": [],
      "source": [
        "from google.colab import files\n",
        "files.upload()"
      ]
    },
    {
      "cell_type": "code",
      "source": [
        "import pandas as pd\n",
        "import numpy as np\n",
        "from sklearn.preprocessing import StandardScaler\n",
        "from sklearn.cluster import KMeans, DBSCAN\n",
        "from sklearn.metrics import silhouette_score\n",
        "from sklearn.model_selection import train_test_split, GridSearchCV\n",
        "from sklearn.ensemble import GradientBoostingRegressor\n",
        "import matplotlib.pyplot as plt\n",
        "import seaborn as sns\n"
      ],
      "metadata": {
        "id": "W-6kY_nBIaaw"
      },
      "execution_count": null,
      "outputs": []
    },
    {
      "cell_type": "code",
      "source": [
        "# Replace with your file path\n",
        "df = pd.read_excel(\"Real_estate_Hanoi_clean.xlsx\")\n",
        "\n",
        "# Quick peek\n",
        "df.head()"
      ],
      "metadata": {
        "id": "MCGF2ntIIm8X"
      },
      "execution_count": null,
      "outputs": []
    },
    {
      "cell_type": "markdown",
      "source": [
        "# 1. A Descriptive Clustering"
      ],
      "metadata": {
        "id": "6XUdLIc_I5U_"
      }
    },
    {
      "cell_type": "code",
      "source": [
        "#1 Feature Matrix\n",
        "features = df[[\"unit_price\", \"area_avg\", \"dist_cbd_km\"]].copy()\n",
        "scaler   = StandardScaler()\n",
        "X_scaled = scaler.fit_transform(features)\n"
      ],
      "metadata": {
        "id": "aILtuSe4Ie0f"
      },
      "execution_count": null,
      "outputs": []
    },
    {
      "cell_type": "code",
      "source": [
        "# 2 K-Means (baseline)\n",
        "# Elbow plot\n",
        "inertia = []\n",
        "for k in range(2, 11):\n",
        "    km = KMeans(n_clusters=k, random_state=42).fit(X_scaled)\n",
        "    inertia.append(km.inertia_)\n",
        "plt.plot(range(2,11), inertia, marker=\"o\")\n",
        "plt.xlabel(\"k\"); plt.ylabel(\"Inertia\"); plt.show()\n"
      ],
      "metadata": {
        "colab": {
          "base_uri": "https://localhost:8080/",
          "height": 449
        },
        "id": "ba2JdbD2I_Jn",
        "outputId": "af068dba-ee02-4ba0-fc9f-8be99df9dbc0"
      },
      "execution_count": null,
      "outputs": [
        {
          "output_type": "display_data",
          "data": {
            "text/plain": [
              "<Figure size 640x480 with 1 Axes>"
            ],
            "image/png": "[encoded data removed]"
          },
          "metadata": {}
        }
      ]
    },
    {
      "cell_type": "code",
      "source": [
        "k_opt = 3          # silhouette score nearest to 1\n",
        "km = KMeans(n_clusters=k_opt, random_state=42)\n",
        "df[\"cluster_km\"] = km.fit_predict(X_scaled)\n",
        "print(\"Silhouette:\", silhouette_score(X_scaled, df[\"cluster_km\"]))\n"
      ],
      "metadata": {
        "colab": {
          "base_uri": "https://localhost:8080/"
        },
        "id": "HB1bjfrgJKS5",
        "outputId": "661d6c51-9443-41c4-d391-3068f501ba22"
      },
      "execution_count": null,
      "outputs": [
        {
          "output_type": "stream",
          "name": "stdout",
          "text": [
            "Silhouette: 0.7186685104068085\n"
          ]
        }
      ]
    },
    {
      "cell_type": "code",
      "source": [
        "#DBSCAN (density-based)\n",
        "db = DBSCAN(eps=1.1, min_samples=6).fit(X_scaled)\n",
        "df[\"cluster_db\"] = db.labels_\n",
        "print(\"Noise points:\", (df[\"cluster_db\"]==-1).sum())"
      ],
      "metadata": {
        "colab": {
          "base_uri": "https://localhost:8080/"
        },
        "id": "FsEiLmQLp-t9",
        "outputId": "4b108ab0-8dd4-46c9-fda0-1dac6db72a26"
      },
      "execution_count": null,
      "outputs": [
        {
          "output_type": "stream",
          "name": "stdout",
          "text": [
            "Noise points: 16\n"
          ]
        }
      ]
    },
    {
      "cell_type": "code",
      "source": [
        "from sklearn.neighbors import NearestNeighbors\n"
      ],
      "metadata": {
        "id": "hus2GgshsHqZ"
      },
      "execution_count": null,
      "outputs": []
    },
    {
      "cell_type": "code",
      "source": [
        "k = 5                # bằng min_samples\n",
        "nbrs = NearestNeighbors(n_neighbors=k).fit(X_scaled)\n",
        "distances, _ = nbrs.kneighbors(X_scaled)"
      ],
      "metadata": {
        "id": "6Zjd-1G1scJY"
      },
      "execution_count": null,
      "outputs": []
    },
    {
      "cell_type": "code",
      "source": [
        "k_dist = np.sort(distances[:, k-1])   # k-1 vì chỉ số bắt đầu từ 0\n"
      ],
      "metadata": {
        "id": "TX5GQZ5hsjfp"
      },
      "execution_count": null,
      "outputs": []
    },
    {
      "cell_type": "code",
      "source": [
        "#Test to choose the most suitable eps and min_samples\n",
        "configs = [(0.9,5),(1.0,6),(1.05,6),(1.1,6)]\n",
        "for eps, ms in configs:\n",
        "    labels = DBSCAN(eps=eps, min_samples=ms).fit_predict(X_scaled)\n",
        "    score  = silhouette_score(X_scaled, labels)\n",
        "    noise  = (labels == -1).mean()\n",
        "    print(f\"eps={eps:<4} min={ms}  |  Silhouette={score:.3f}  |  Noise={noise:.2%}\")\n",
        "\n",
        "    #Choose eps = 1.10, min_samples = 6\n"
      ],
      "metadata": {
        "id": "fwjky53RuwkG"
      },
      "execution_count": null,
      "outputs": []
    },
    {
      "cell_type": "code",
      "source": [
        "from sklearn.cluster import DBSCAN\n",
        "from sklearn.metrics import silhouette_score\n",
        "\n",
        "# 1) Chạy DBSCAN với thông số bạn chọn\n",
        "db = DBSCAN(eps=1.1, min_samples=6).fit(X_scaled)\n",
        "labels = db.labels_\n",
        "\n",
        "# 2) Tính Silhouette\n",
        "sil = silhouette_score(X_scaled, labels)     # mặc định metric='euclidean'\n",
        "print(f\"Silhouette score (eps=1.1, min_samples=6): {sil:.3f}\")\n"
      ],
      "metadata": {
        "colab": {
          "base_uri": "https://localhost:8080/"
        },
        "id": "X0UjarF_upMC",
        "outputId": "71951461-c51a-4134-c423-d5bca8bdcb50"
      },
      "execution_count": null,
      "outputs": [
        {
          "output_type": "stream",
          "name": "stdout",
          "text": [
            "Silhouette score (eps=1.1, min_samples=6): 0.673\n"
          ]
        }
      ]
    },
    {
      "cell_type": "code",
      "source": [
        "base_feats = [\"unit_price\", \"area_avg\", \"dist_cbd_km\"]   # already engineered\n"
      ],
      "metadata": {
        "id": "3zBAvn2tvzW-"
      },
      "execution_count": null,
      "outputs": []
    },
    {
      "cell_type": "code",
      "source": [
        "#Scale the core variables\n",
        "scaler  = StandardScaler()\n",
        "X_scaled = scaler.fit_transform(df[base_feats])"
      ],
      "metadata": {
        "id": "rIQl7GX-xbcB"
      },
      "execution_count": null,
      "outputs": []
    },
    {
      "cell_type": "code",
      "source": [
        "#DBSCAN with parameters\n",
        "db = DBSCAN(eps=1.10,        # radius in **scaled** units (after StandardScaler!)\n",
        "            min_samples=6).fit(X_scaled)\n",
        "\n",
        "df[\"cluster_db\"] = db.labels_\n",
        "noise_pct = (df.cluster_db == -1).mean()\n",
        "print(f\"Noise share: {noise_pct:.1%}\")"
      ],
      "metadata": {
        "colab": {
          "base_uri": "https://localhost:8080/"
        },
        "id": "ioVQ_TGWxnX3",
        "outputId": "73688571-fb23-4ccd-8be1-7d7109ef6e83"
      },
      "execution_count": null,
      "outputs": [
        {
          "output_type": "stream",
          "name": "stdout",
          "text": [
            "Noise share: 5.2%\n"
          ]
        }
      ]
    },
    {
      "cell_type": "code",
      "source": [
        "#Profile clusters\n",
        "cluster_summary = (\n",
        "    df.groupby(\"cluster_db\")[base_feats]\n",
        "      .agg([\"count\",\"mean\",\"median\"])\n",
        "      .round(1)\n",
        "      .style.background_gradient(cmap=\"YlGn\")\n",
        ")\n",
        "cluster_summary"
      ],
      "metadata": {
        "colab": {
          "base_uri": "https://localhost:8080/",
          "height": 206
        },
        "id": "qFTXcr5-xseo",
        "outputId": "098fea39-45e2-4dfd-fb86-8b56e04fcea6"
      },
      "execution_count": null,
      "outputs": [
        {
          "output_type": "execute_result",
          "data": {
            "text/plain": [
              "<pandas.io.formats.style.Styler at 0x785dd0fe4310>"
            ],
            "text/html": [
              "<style type=\"text/css\">\n",
              "#T_02cd8_row0_col0, #T_02cd8_row0_col3, #T_02cd8_row0_col6 {\n",
              "  background-color: #fdfedb;\n",
              "  color: #000000;\n",
              "}\n",
              "#T_02cd8_row0_col1, #T_02cd8_row0_col2, #T_02cd8_row0_col4, #T_02cd8_row0_col5, #T_02cd8_row1_col0, #T_02cd8_row1_col3, #T_02cd8_row1_col6, #T_02cd8_row2_col7, #T_02cd8_row2_col8 {\n",
              "  background-color: #004529;\n",
              "  color: #f1f1f1;\n",
              "}\n",
              "#T_02cd8_row0_col7 {\n",
              "  background-color: #97d385;\n",
              "  color: #000000;\n",
              "}\n",
              "#T_02cd8_row0_col8 {\n",
              "  background-color: #dcf1a5;\n",
              "  color: #000000;\n",
              "}\n",
              "#T_02cd8_row1_col1 {\n",
              "  background-color: #f0f9b4;\n",
              "  color: #000000;\n",
              "}\n",
              "#T_02cd8_row1_col2 {\n",
              "  background-color: #aedd8e;\n",
              "  color: #000000;\n",
              "}\n",
              "#T_02cd8_row1_col4, #T_02cd8_row1_col5, #T_02cd8_row1_col7, #T_02cd8_row1_col8, #T_02cd8_row2_col0, #T_02cd8_row2_col1, #T_02cd8_row2_col2, #T_02cd8_row2_col3, #T_02cd8_row2_col6 {\n",
              "  background-color: #ffffe5;\n",
              "  color: #000000;\n",
              "}\n",
              "#T_02cd8_row2_col4 {\n",
              "  background-color: #d0ec9f;\n",
              "  color: #000000;\n",
              "}\n",
              "#T_02cd8_row2_col5 {\n",
              "  background-color: #b1df90;\n",
              "  color: #000000;\n",
              "}\n",
              "</style>\n",
              "<table id=\"T_02cd8\" class=\"dataframe\">\n",
              "  <thead>\n",
              "    <tr>\n",
              "      <th class=\"blank level0\" >&nbsp;</th>\n",
              "      <th id=\"T_02cd8_level0_col0\" class=\"col_heading level0 col0\" colspan=\"3\">unit_price</th>\n",
              "      <th id=\"T_02cd8_level0_col3\" class=\"col_heading level0 col3\" colspan=\"3\">area_avg</th>\n",
              "      <th id=\"T_02cd8_level0_col6\" class=\"col_heading level0 col6\" colspan=\"3\">dist_cbd_km</th>\n",
              "    </tr>\n",
              "    <tr>\n",
              "      <th class=\"blank level1\" >&nbsp;</th>\n",
              "      <th id=\"T_02cd8_level1_col0\" class=\"col_heading level1 col0\" >count</th>\n",
              "      <th id=\"T_02cd8_level1_col1\" class=\"col_heading level1 col1\" >mean</th>\n",
              "      <th id=\"T_02cd8_level1_col2\" class=\"col_heading level1 col2\" >median</th>\n",
              "      <th id=\"T_02cd8_level1_col3\" class=\"col_heading level1 col3\" >count</th>\n",
              "      <th id=\"T_02cd8_level1_col4\" class=\"col_heading level1 col4\" >mean</th>\n",
              "      <th id=\"T_02cd8_level1_col5\" class=\"col_heading level1 col5\" >median</th>\n",
              "      <th id=\"T_02cd8_level1_col6\" class=\"col_heading level1 col6\" >count</th>\n",
              "      <th id=\"T_02cd8_level1_col7\" class=\"col_heading level1 col7\" >mean</th>\n",
              "      <th id=\"T_02cd8_level1_col8\" class=\"col_heading level1 col8\" >median</th>\n",
              "    </tr>\n",
              "    <tr>\n",
              "      <th class=\"index_name level0\" >cluster_db</th>\n",
              "      <th class=\"blank col0\" >&nbsp;</th>\n",
              "      <th class=\"blank col1\" >&nbsp;</th>\n",
              "      <th class=\"blank col2\" >&nbsp;</th>\n",
              "      <th class=\"blank col3\" >&nbsp;</th>\n",
              "      <th class=\"blank col4\" >&nbsp;</th>\n",
              "      <th class=\"blank col5\" >&nbsp;</th>\n",
              "      <th class=\"blank col6\" >&nbsp;</th>\n",
              "      <th class=\"blank col7\" >&nbsp;</th>\n",
              "      <th class=\"blank col8\" >&nbsp;</th>\n",
              "    </tr>\n",
              "  </thead>\n",
              "  <tbody>\n",
              "    <tr>\n",
              "      <th id=\"T_02cd8_level0_row0\" class=\"row_heading level0 row0\" >-1</th>\n",
              "      <td id=\"T_02cd8_row0_col0\" class=\"data row0 col0\" >16</td>\n",
              "      <td id=\"T_02cd8_row0_col1\" class=\"data row0 col1\" >160.300000</td>\n",
              "      <td id=\"T_02cd8_row0_col2\" class=\"data row0 col2\" >50.300000</td>\n",
              "      <td id=\"T_02cd8_row0_col3\" class=\"data row0 col3\" >16</td>\n",
              "      <td id=\"T_02cd8_row0_col4\" class=\"data row0 col4\" >370.600000</td>\n",
              "      <td id=\"T_02cd8_row0_col5\" class=\"data row0 col5\" >320.500000</td>\n",
              "      <td id=\"T_02cd8_row0_col6\" class=\"data row0 col6\" >16</td>\n",
              "      <td id=\"T_02cd8_row0_col7\" class=\"data row0 col7\" >19.800000</td>\n",
              "      <td id=\"T_02cd8_row0_col8\" class=\"data row0 col8\" >14.400000</td>\n",
              "    </tr>\n",
              "    <tr>\n",
              "      <th id=\"T_02cd8_level0_row1\" class=\"row_heading level0 row1\" >0</th>\n",
              "      <td id=\"T_02cd8_row1_col0\" class=\"data row1 col0\" >285</td>\n",
              "      <td id=\"T_02cd8_row1_col1\" class=\"data row1 col1\" >40.700000</td>\n",
              "      <td id=\"T_02cd8_row1_col2\" class=\"data row1 col2\" >29.900000</td>\n",
              "      <td id=\"T_02cd8_row1_col3\" class=\"data row1 col3\" >285</td>\n",
              "      <td id=\"T_02cd8_row1_col4\" class=\"data row1 col4\" >114.300000</td>\n",
              "      <td id=\"T_02cd8_row1_col5\" class=\"data row1 col5\" >95.200000</td>\n",
              "      <td id=\"T_02cd8_row1_col6\" class=\"data row1 col6\" >285</td>\n",
              "      <td id=\"T_02cd8_row1_col7\" class=\"data row1 col7\" >8.200000</td>\n",
              "      <td id=\"T_02cd8_row1_col8\" class=\"data row1 col8\" >7.500000</td>\n",
              "    </tr>\n",
              "    <tr>\n",
              "      <th id=\"T_02cd8_level0_row2\" class=\"row_heading level0 row2\" >1</th>\n",
              "      <td id=\"T_02cd8_row2_col0\" class=\"data row2 col0\" >8</td>\n",
              "      <td id=\"T_02cd8_row2_col1\" class=\"data row2 col1\" >19.000000</td>\n",
              "      <td id=\"T_02cd8_row2_col2\" class=\"data row2 col2\" >17.800000</td>\n",
              "      <td id=\"T_02cd8_row2_col3\" class=\"data row2 col3\" >8</td>\n",
              "      <td id=\"T_02cd8_row2_col4\" class=\"data row2 col4\" >185.200000</td>\n",
              "      <td id=\"T_02cd8_row2_col5\" class=\"data row2 col5\" >177.500000</td>\n",
              "      <td id=\"T_02cd8_row2_col6\" class=\"data row2 col6\" >8</td>\n",
              "      <td id=\"T_02cd8_row2_col7\" class=\"data row2 col7\" >35.400000</td>\n",
              "      <td id=\"T_02cd8_row2_col8\" class=\"data row2 col8\" >36.300000</td>\n",
              "    </tr>\n",
              "  </tbody>\n",
              "</table>\n"
            ]
          },
          "metadata": {},
          "execution_count": 59
        }
      ]
    },
    {
      "cell_type": "markdown",
      "source": [
        "# 2.  Predictive Modelling – Gradient‑Boosted Regression\n"
      ],
      "metadata": {
        "id": "Cfl1wbzTyAsR"
      }
    },
    {
      "cell_type": "code",
      "source": [
        "#Build X/y\n",
        "X = pd.get_dummies(\n",
        "        df[[\"area_avg\",\"dist_cbd_km\", \"district\"]], # Include \"district\" for dummies\n",
        "        columns=[\"district\"],  # Specify the column to create dummies from\n",
        "        drop_first=True\n",
        "    ).astype(float)\n",
        "y = df[\"unit_price\"]\n"
      ],
      "metadata": {
        "id": "O6tFKFnFyCGG"
      },
      "execution_count": null,
      "outputs": []
    },
    {
      "cell_type": "code",
      "source": [
        "X_train, X_test, y_train, y_test = train_test_split(\n",
        "    X, y, test_size=0.2, random_state=42, stratify=pd.qcut(y, 10)\n",
        ")"
      ],
      "metadata": {
        "id": "mcNWLbumygko"
      },
      "execution_count": null,
      "outputs": []
    },
    {
      "cell_type": "code",
      "source": [
        "from sklearn.ensemble import GradientBoostingRegressor\n"
      ],
      "metadata": {
        "id": "k8aPebzOymLl"
      },
      "execution_count": null,
      "outputs": []
    },
    {
      "cell_type": "code",
      "source": [
        "gbr = GradientBoostingRegressor(random_state=42)\n",
        "grid = GridSearchCV(\n",
        "    gbr,\n",
        "    param_grid = {\n",
        "        \"n_estimators\":[300,500,700],\n",
        "        \"learning_rate\":[0.05,0.1],\n",
        "        \"max_depth\":[2,3,4],\n",
        "        \"subsample\":[0.8,1.0]\n",
        "    },\n",
        "    cv=5,\n",
        "    scoring=\"neg_root_mean_squared_error\",\n",
        "    n_jobs=-1\n",
        ")\n",
        "grid.fit(X_train, y_train)\n",
        "best = grid.best_estimator_\n",
        "print(\"Best params:\", grid.best_params_)"
      ],
      "metadata": {
        "colab": {
          "base_uri": "https://localhost:8080/"
        },
        "id": "bJbeC5M3ymyi",
        "outputId": "7c55eed9-fa7a-4c16-eea5-c4e0cbebfaa6"
      },
      "execution_count": null,
      "outputs": [
        {
          "output_type": "stream",
          "name": "stdout",
          "text": [
            "Best params: {'learning_rate': 0.05, 'max_depth': 2, 'n_estimators': 300, 'subsample': 1.0}\n"
          ]
        }
      ]
    },
    {
      "cell_type": "code",
      "source": [
        "from sklearn.metrics import mean_absolute_error, r2_score\n",
        "\n",
        "pred = best.predict(X_test)\n",
        "print(\"MAE:\", round(mean_absolute_error(y_test, pred), 2), \"mil VND\")\n",
        "print(\"R² :\", round(r2_score(y_test, pred), 3)) # Round the r2_score result"
      ],
      "metadata": {
        "colab": {
          "base_uri": "https://localhost:8080/"
        },
        "id": "hsm8zlJyy8pF",
        "outputId": "c1b314a7-338b-4a3a-d5ec-24ecd13e2890"
      },
      "execution_count": null,
      "outputs": [
        {
          "output_type": "stream",
          "name": "stdout",
          "text": [
            "MAE: 28.29 mil VND\n",
            "R² : 0.055\n"
          ]
        }
      ]
    },
    {
      "cell_type": "code",
      "source": [
        "(pd.Series(best.feature_importances_, index=X.columns)\n",
        "   .sort_values(ascending=False)\n",
        "   .head(15)\n",
        "   .plot(kind=\"barh\", figsize=(6,4)))\n",
        "plt.title(\"GBR – feature importance\")\n",
        "plt.show()"
      ],
      "metadata": {
        "colab": {
          "base_uri": "https://localhost:8080/",
          "height": 391
        },
        "id": "BwNCEwTazls2",
        "outputId": "b9f5f8e4-9ac4-4671-d217-8743025a0078"
      },
      "execution_count": null,
      "outputs": [
        {
          "output_type": "display_data",
          "data": {
            "text/plain": [
              "<Figure size 600x400 with 1 Axes>"
            ],
            "image/png": "[encoded data removed]"
          },
          "metadata": {}
        }
      ]
    },
    {
      "cell_type": "markdown",
      "source": [
        "# 3.  Profitability Scenario – Monte‑Carlo"
      ],
      "metadata": {
        "id": "B5G2yM9wz0Q_"
      }
    },
    {
      "cell_type": "code",
      "source": [
        "# Example new site\n",
        "candidate = {\n",
        "    \"area_avg\": 80,\n",
        "    \"dist_cbd_km\": 9.5,\n",
        "    \"district\": \"Nam Từ Liêm\",\n",
        "}"
      ],
      "metadata": {
        "id": "IF9VkIk6z2SP"
      },
      "execution_count": null,
      "outputs": []
    },
    {
      "cell_type": "code",
      "source": [
        "X_new = pd.DataFrame([candidate])\n",
        "X_new = pd.get_dummies(X_new).reindex(columns=X.columns, fill_value=0).astype(float)\n",
        "sale_price_est = best.predict(X_new)[0]\n",
        "print(f\"Estimated sale price: {sale_price_est:.1f} mil VND/m²\")"
      ],
      "metadata": {
        "colab": {
          "base_uri": "https://localhost:8080/"
        },
        "id": "uXndxI1nz6Nq",
        "outputId": "b6f96d43-088c-48c8-c84a-2fbc9a33b2be"
      },
      "execution_count": null,
      "outputs": [
        {
          "output_type": "stream",
          "name": "stdout",
          "text": [
            "Estimated sale price: 28.9 mil VND/m²\n"
          ]
        }
      ]
    },
    {
      "cell_type": "code",
      "source": [
        "#Set uncertainty assumptions\n",
        "n_sim = 10_000\n",
        "rng    = np.random.default_rng(42)\n",
        "\n",
        "# costs in mil VND/m²\n",
        "mean_cost, sd_cost = 14, 1.2\n",
        "# sale‑price uncertainty ±5 %\n",
        "price_sd_pct = 0.05\n"
      ],
      "metadata": {
        "id": "PJxatSab0NTA"
      },
      "execution_count": null,
      "outputs": []
    },
    {
      "cell_type": "code",
      "source": [
        "#Run simulations\n",
        "sim_cost  = rng.normal(mean_cost,  sd_cost,           n_sim)\n",
        "sim_price = rng.normal(sale_price_est, sale_price_est*price_sd_pct, n_sim)\n",
        "sim_profit = sim_price - sim_cost"
      ],
      "metadata": {
        "id": "3t_BRhiO0Qz1"
      },
      "execution_count": null,
      "outputs": []
    },
    {
      "cell_type": "code",
      "source": [
        "#Risk metrics & plot\n",
        "loss_prob = (sim_profit < 0).mean()\n",
        "exp_ppm   = sim_profit.mean()\n",
        "\n",
        "print(f\"Expected profit: {exp_ppm:.1f} mil VND/m²\")\n",
        "print(f\"Loss probability: {loss_prob:.1%}\")\n",
        "\n",
        "sns.histplot(sim_profit, bins=50, kde=True)\n",
        "plt.axvline(0, ls=\"--\"); plt.xlabel(\"Profit per m² (mil VND)\"); plt.show()"
      ],
      "metadata": {
        "colab": {
          "base_uri": "https://localhost:8080/",
          "height": 485
        },
        "id": "MyZopxdI0UtH",
        "outputId": "9597ef9e-1bd7-4a38-caf8-d21b7d1e7264"
      },
      "execution_count": null,
      "outputs": [
        {
          "output_type": "stream",
          "name": "stdout",
          "text": [
            "Expected profit: 14.9 mil VND/m²\n",
            "Loss probability: 0.0%\n"
          ]
        },
        {
          "output_type": "display_data",
          "data": {
            "text/plain": [
              "<Figure size 640x480 with 1 Axes>"
            ],
            "image/png": "[encoded data removed]"
          },
          "metadata": {}
        }
      ]
    }
  ]
}